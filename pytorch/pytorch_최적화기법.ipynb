{
  "nbformat": 4,
  "nbformat_minor": 0,
  "metadata": {
    "colab": {
      "provenance": [],
      "authorship_tag": "ABX9TyOVBEHjGt3Pjjv/TVer9fQz",
      "include_colab_link": true
    },
    "kernelspec": {
      "name": "python3",
      "display_name": "Python 3"
    },
    "language_info": {
      "name": "python"
    },
    "accelerator": "GPU"
  },
  "cells": [
    {
      "cell_type": "markdown",
      "metadata": {
        "id": "view-in-github",
        "colab_type": "text"
      },
      "source": [
        "<a href=\"https://colab.research.google.com/github/chanzae/Study-logs/blob/main/pytorch/pytorch_%EC%B5%9C%EC%A0%81%ED%99%94%EA%B8%B0%EB%B2%95.ipynb\" target=\"_parent\"><img src=\"https://colab.research.google.com/assets/colab-badge.svg\" alt=\"Open In Colab\"/></a>"
      ]
    },
    {
      "cell_type": "markdown",
      "source": [
        "reference [유튜브 딥러닝호형](\n",
        "https://www.youtube.com/watch?v=eYjcN_zwUP4&list=PLHOsBEAyYj3xf4i20sCA5o8MgVW5sIiHD&index=13)"
      ],
      "metadata": {
        "id": "77jD0oeEFFqQ"
      }
    },
    {
      "cell_type": "markdown",
      "source": [
        "# 인공신경망\n",
        "## 최적화 기법"
      ],
      "metadata": {
        "id": "iCSvHpWNs2-V"
      }
    },
    {
      "cell_type": "code",
      "execution_count": null,
      "metadata": {
        "id": "-7ZyxAKkUMaR"
      },
      "outputs": [],
      "source": [
        "import torch\n",
        "import torchvision"
      ]
    },
    {
      "cell_type": "code",
      "source": [
        "model = torchvision.models.resnet18(pretrained=False)"
      ],
      "metadata": {
        "colab": {
          "base_uri": "https://localhost:8080/"
        },
        "id": "xr9JTaE8tDKk",
        "outputId": "b000954e-3fd6-490d-9154-ae6e0e95edb3"
      },
      "execution_count": null,
      "outputs": [
        {
          "output_type": "stream",
          "name": "stderr",
          "text": [
            "/usr/local/lib/python3.7/dist-packages/torchvision/models/_utils.py:209: UserWarning: The parameter 'pretrained' is deprecated since 0.13 and will be removed in 0.15, please use 'weights' instead.\n",
            "  f\"The parameter '{pretrained_param}' is deprecated since 0.13 and will be removed in 0.15, \"\n",
            "/usr/local/lib/python3.7/dist-packages/torchvision/models/_utils.py:223: UserWarning: Arguments other than a weight enum or `None` for 'weights' are deprecated since 0.13 and will be removed in 0.15. The current behavior is equivalent to passing `weights=None`.\n",
            "  warnings.warn(msg)\n"
          ]
        }
      ]
    },
    {
      "cell_type": "markdown",
      "source": [
        "###SGD"
      ],
      "metadata": {
        "id": "Psa2h3kutMeV"
      }
    },
    {
      "cell_type": "code",
      "source": [
        "optimizer = torch.optim.SGD(model.parameters(), lr = 0.01)"
      ],
      "metadata": {
        "id": "Yy7mMW88tLvU"
      },
      "execution_count": null,
      "outputs": []
    },
    {
      "cell_type": "markdown",
      "source": [
        "### Momentum"
      ],
      "metadata": {
        "id": "dN3RUIoAtTI7"
      }
    },
    {
      "cell_type": "code",
      "source": [
        "optimizer = torch.optim.SGD(model.parameters(), lr = 0.01, momentum=0.9)"
      ],
      "metadata": {
        "id": "LVlxVhRAtSv8"
      },
      "execution_count": null,
      "outputs": []
    },
    {
      "cell_type": "markdown",
      "source": [
        "### Adam"
      ],
      "metadata": {
        "id": "Kyxyem_8tb_2"
      }
    },
    {
      "cell_type": "code",
      "source": [
        "optimizer = torch.optim.Adam(model.parameters(), lr = 0.01)"
      ],
      "metadata": {
        "id": "TLEijxTMtbsf"
      },
      "execution_count": null,
      "outputs": []
    },
    {
      "cell_type": "markdown",
      "source": [
        "### 스케쥴링\n",
        "모멘텀을 기반으로 최적화. 러닝레이트(lr)가 바뀌지 않으므로 러닝레이트를 강제적으로 바꾸는 방법  \n",
        "- StepLR : 일정 스텝마다 gamma를 학습률에 곱해서 사용  \n",
        "\n",
        "Adam은 자체적으로 러닝레이트 가변되기 때문에 굳이 스케쥴러를 사용하지는 않음."
      ],
      "metadata": {
        "id": "RZnKlE6XthKr"
      }
    },
    {
      "cell_type": "code",
      "source": [
        "optimizer = torch.optim.SGD(model.parameters(), lr = 0.01, momentum=0.9)\n",
        "scheduler = torch.optim.lr_scheduler.StepLR(optimizer, step_size=30, gamma=0.1)"
      ],
      "metadata": {
        "id": "qksbd_fptjcT"
      },
      "execution_count": null,
      "outputs": []
    },
    {
      "cell_type": "code",
      "source": [
        "### ~~ 중략 ~~\n",
        "\n",
        "  for epoch in range(400):\n",
        "    running_loss = 0.0\n",
        "    for data in trainloader:\n",
        "      inputs, values = data\n",
        "      optimizer.zero_grad()\n",
        "      outputs = model(inputs)\n",
        "      loss = criterion(outputs, values)\n",
        "      loss.backward()\n",
        "      optimizer.step()\n",
        "\n",
        "    scheduler.step() ##스케쥴링을 통학 학습률 조정\n"
      ],
      "metadata": {
        "id": "qDtZ-RN8uyyx"
      },
      "execution_count": null,
      "outputs": []
    }
  ]
}