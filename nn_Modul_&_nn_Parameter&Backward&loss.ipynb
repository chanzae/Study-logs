{
  "nbformat": 4,
  "nbformat_minor": 0,
  "metadata": {
    "colab": {
      "name": "nn.Modul & nn.Parameter&Backward&loss.ipynb",
      "provenance": [],
      "collapsed_sections": [],
      "authorship_tag": "ABX9TyNxkesAQ9KGu2h7NpzYWDEj",
      "include_colab_link": true
    },
    "kernelspec": {
      "name": "python3",
      "display_name": "Python 3"
    },
    "language_info": {
      "name": "python"
    },
    "accelerator": "GPU",
    "gpuClass": "standard"
  },
  "cells": [
    {
      "cell_type": "markdown",
      "metadata": {
        "id": "view-in-github",
        "colab_type": "text"
      },
      "source": [
        "<a href=\"https://colab.research.google.com/github/chanzae/Study-logs/blob/main/nn_Modul_%26_nn_Parameter%26Backward%26loss.ipynb\" target=\"_parent\"><img src=\"https://colab.research.google.com/assets/colab-badge.svg\" alt=\"Open In Colab\"/></a>"
      ]
    },
    {
      "cell_type": "markdown",
      "source": [
        "- 이 자료는 네이버 부스트코스의 [파이토치로 만드는 딥러닝 이론]을 듣고 작성한 노트입니다.\n",
        "- Google colab 환경에서 작업하였습니다.\n",
        "\n"
      ],
      "metadata": {
        "id": "_BrfhoRKcQcH"
      }
    },
    {
      "cell_type": "code",
      "execution_count": 1,
      "metadata": {
        "colab": {
          "base_uri": "https://localhost:8080/"
        },
        "id": "0E_ua63WTuaG",
        "outputId": "4b38ba28-c645-4d54-df86-f1ef280df601"
      },
      "outputs": [
        {
          "output_type": "stream",
          "name": "stdout",
          "text": [
            "Mounted at /content/drive\n"
          ]
        }
      ],
      "source": [
        "from google.colab import drive\n",
        "drive.mount('/content/drive')"
      ]
    },
    {
      "cell_type": "markdown",
      "source": [
        "---\n",
        "\n",
        "nn.Module을 통해 기본적으로 PyTorch에 구현되어 있는 네트워크 텐서 모듈들을 살펴보고 nn.Parameter이 Module 내부에서 어떤 역할을 하는지 알아봅시다.\n",
        "<br>\n",
        "<br>\n",
        "## **nn.Module**\n",
        "딥러닝 모델은 복잡한 구조로 되어 있는 것처럼 보이지만 사실 몇 개의 코어 블록의 반복입니다. torch.nn.Module은 모든 layer의 Base Class입니다. nn.Module을 상속하여 새로운 블록을 정의하고 앞서 존재하는 다양한 torch의 layer를 가져와 새로운 Neural Network class를 쉽게 만들 수 있습니다.\n",
        "- 딥러닝을 구성하는 layer의 base class\n",
        "- Input, Output, Forward, Backward 정의\n",
        "- 학습의 대상이 되는 parameter(tensor) 정의  \n",
        "<br>\n",
        "\n",
        "## **nn.Parameter**\n",
        "- Tensor 객체의 상속 객체\n",
        "- nn.Module 내에 attribute가 될 때는 required_grad = True로 지정되어 학습 대상이 되는 Tensor\n",
        "- 우리가 직접 지정할 일은 잘 없음  \n",
        "  : 대부분의 layer에는 weights값들이 지정되어 있음"
      ],
      "metadata": {
        "id": "ygF6IAZgcoHw"
      }
    },
    {
      "cell_type": "code",
      "source": [
        "import torch\n",
        "from torch import nn\n",
        "from torch import Tensor\n",
        "\n",
        "class MyLiner(nn.Module):\n",
        "  def __init__(self, in_features, out_features, bias=True):\n",
        "    super().__init__()\n",
        "    self.in_features = in_features\n",
        "    self.out_features = out_features\n",
        "\n",
        "    self.weights = nn.Parameter(\n",
        "        torch.randn(in_features, out_features))\n",
        "    \n",
        "    self.bias = nn.Parameter(torch.randn(out_features))\n",
        "\n",
        "  def forward(self, x : Tensor):  # xw + b 형태\n",
        "    return x @ self.weights + self.bias"
      ],
      "metadata": {
        "id": "ODWCLbYScjyZ"
      },
      "execution_count": 18,
      "outputs": []
    },
    {
      "cell_type": "code",
      "source": [
        "x = torch.randn(5,7) # 데이터 5개, feature 7개"
      ],
      "metadata": {
        "id": "N0EoMQaEgHWR"
      },
      "execution_count": 7,
      "outputs": []
    },
    {
      "cell_type": "code",
      "source": [
        "layer = MyLiner(7, 12)\n",
        "layer(x).shape"
      ],
      "metadata": {
        "colab": {
          "base_uri": "https://localhost:8080/"
        },
        "id": "IfLBOGYDgJt4",
        "outputId": "c79462c5-bf06-4773-e382-d1fd3c2d11d5"
      },
      "execution_count": 20,
      "outputs": [
        {
          "output_type": "execute_result",
          "data": {
            "text/plain": [
              "torch.Size([5, 12])"
            ]
          },
          "metadata": {},
          "execution_count": 20
        }
      ]
    },
    {
      "cell_type": "code",
      "source": [
        "# Parameter의 weights값과 backward의 대상이 되는지 아닌지 여부 확인 가능\n",
        "for value in layer.parameters():\n",
        "  print(value)"
      ],
      "metadata": {
        "colab": {
          "base_uri": "https://localhost:8080/"
        },
        "id": "3KFAdw5Wg7E8",
        "outputId": "d460dd40-8c2a-4ce0-8721-11da43809a75"
      },
      "execution_count": 21,
      "outputs": [
        {
          "output_type": "stream",
          "name": "stdout",
          "text": [
            "Parameter containing:\n",
            "tensor([[-1.3303, -0.1662, -1.0698,  1.3758, -1.4334, -0.1310, -0.3034,  2.0012,\n",
            "         -0.2472, -0.4917,  0.9469,  0.1036],\n",
            "        [ 0.1379, -0.3147,  0.6276, -1.0388,  2.3444, -1.0008,  0.8532, -0.1276,\n",
            "          0.3748, -2.0094,  2.6430, -0.0298],\n",
            "        [-0.4365,  0.8554, -1.1523,  1.4404,  1.2282,  0.1070, -0.5785, -1.2614,\n",
            "         -0.1760, -0.1143,  0.1023,  0.1423],\n",
            "        [ 0.4766, -0.3591, -0.4421,  0.2242,  0.8784, -0.0087, -0.4459,  1.2215,\n",
            "          0.8695,  0.7880,  0.7616,  0.8635],\n",
            "        [ 0.4625,  1.2206,  1.2883,  0.7928,  0.1455, -0.9839,  1.1096, -1.0586,\n",
            "          1.3943,  1.1412,  0.0945, -0.3287],\n",
            "        [-1.4180,  1.7613, -0.9187,  1.5242,  0.6521,  1.0539, -1.0750,  1.4087,\n",
            "         -1.3175,  2.4152, -1.6579,  1.0351],\n",
            "        [ 1.1794,  0.6479,  1.1695, -1.8499,  2.7646,  0.9501,  1.3354, -0.0541,\n",
            "          1.2763, -0.3787,  0.5824,  1.0953]], requires_grad=True)\n",
            "Parameter containing:\n",
            "tensor([ 0.2933,  0.6245, -1.6092, -0.0034, -1.1814,  0.1485, -1.7639, -0.5547,\n",
            "         0.6312, -0.0865, -1.1709,  0.0456], requires_grad=True)\n"
          ]
        }
      ]
    },
    {
      "cell_type": "code",
      "source": [
        "# 만약에 nn.Paramter가 아니라 Tensor로 선언한다면,...\n",
        "\n",
        "class MyLiner(nn.Module):\n",
        "  def __init__(self, in_features, out_features, bias=True):\n",
        "    super().__init__()\n",
        "    self.in_features = in_features\n",
        "    self.out_features = out_features\n",
        "\n",
        "    self.weights = Tensor(\n",
        "        torch.randn(in_features, out_features))\n",
        "    \n",
        "    self.bias = Tensor(torch.randn(out_features))\n",
        "\n",
        "  def forward(self, x : Tensor):  # xw + b 형태\n",
        "    return x @ self.weights + self.bias\n",
        "\n",
        "layer = MyLiner(7, 12)\n",
        "layer(x)"
      ],
      "metadata": {
        "colab": {
          "base_uri": "https://localhost:8080/"
        },
        "id": "WOLvRyybhSP9",
        "outputId": "e1a92b12-df88-4c1c-8c26-f1cd0bc5b5da"
      },
      "execution_count": 24,
      "outputs": [
        {
          "output_type": "execute_result",
          "data": {
            "text/plain": [
              "tensor([[-0.6172,  0.1696, -0.1537,  1.5162, -2.0323, -3.9386, -1.0833,  4.5306,\n",
              "         -0.3198,  3.4278,  2.6819,  1.6545],\n",
              "        [-1.0068, -0.0809, -1.2736,  3.6248, -0.4859,  2.3301,  6.4828, -1.4413,\n",
              "          0.5953, -0.2085,  4.1980,  1.2532],\n",
              "        [-0.1606, -1.1998,  0.9379, -2.0377, -1.9360, -2.5440, -3.0225,  3.6944,\n",
              "         -0.0780,  2.6676, -0.8539,  1.5198],\n",
              "        [-2.6842, -1.3352,  4.2016, -2.4188, -0.6146, -1.9166, -0.7399, -1.9945,\n",
              "         -1.3869,  1.4383, -2.6655,  1.3403],\n",
              "        [-0.4013, -2.8886,  1.6358, -3.3263,  2.9174, -1.8678,  1.7535, -5.6243,\n",
              "          0.7842, -0.3855,  1.5708, -0.2145]])"
            ]
          },
          "metadata": {},
          "execution_count": 24
        }
      ]
    },
    {
      "cell_type": "code",
      "source": [
        "# 값이 나오지 않음.\n",
        "# .parameters()는 미분의 대상이 되는 값만 보여주기 때문\n",
        "for value in layer.parameters():\n",
        "  print(value)"
      ],
      "metadata": {
        "id": "DP7NCp1khgwK"
      },
      "execution_count": 25,
      "outputs": []
    },
    {
      "cell_type": "markdown",
      "source": [
        "---\n",
        "## **Backward**\n",
        "- layer에 있는 parameter들의 미분을 수행\n",
        "- Forward의 결과값 (model의 output = 예측치)과 실제값간의 차이(loss)에 대해 미분을 수행\n",
        "- 해당값으로 parameter업데이트\n",
        "<br>\n",
        "\n",
        "## **Loss function**\n",
        "Loss function란, 입력값(Input)에 대한 Model의 출력값(Output)과  정답값(Label)의 차이를 비교해 모델의 출력값이 얼마나 잘 예측했는 가를 나타내는 함수다. Loss function에는 여러가지 함수 있는데 많이 쓰이는 함수에 대해 소개하면,\n",
        "- MSE(Mean Squared Error) Loss  : 회귀(Regression)문제에서 많이 쓰이는 함수, 출력값(Output)과 정답값(Label)의 차이의 제곱에 대해 측정\n",
        "- CE(Cross Entropy) Loss: 분류(Classification)문제에서 많이 쓰이는 함수\n",
        " \n",
        " "
      ],
      "metadata": {
        "id": "pP8FWWaEiaPA"
      }
    },
    {
      "cell_type": "code",
      "source": [
        "import numpy as np\n",
        "#create dummy data for training\n",
        "x_values = [i for i in range(11)]\n",
        "x_train = np.array(x_values, dtype = np.float32)\n",
        "x_train = x_train.reshape(-1,1)\n",
        "\n",
        "y_values = [2*i + 1 for i in x_values]\n",
        "y_train = np.array(y_values, dtype = np.float32)\n",
        "y_train = y_train.reshape(-1,1)"
      ],
      "metadata": {
        "id": "bQLYaI68ixG_"
      },
      "execution_count": 26,
      "outputs": []
    },
    {
      "cell_type": "code",
      "source": [
        "print(x_train)\n",
        "print(y_train)"
      ],
      "metadata": {
        "colab": {
          "base_uri": "https://localhost:8080/"
        },
        "id": "96-VbsG8odUj",
        "outputId": "0e74a37b-7ad3-424b-cc4a-cc7d45c88135"
      },
      "execution_count": 27,
      "outputs": [
        {
          "output_type": "stream",
          "name": "stdout",
          "text": [
            "[[ 0.]\n",
            " [ 1.]\n",
            " [ 2.]\n",
            " [ 3.]\n",
            " [ 4.]\n",
            " [ 5.]\n",
            " [ 6.]\n",
            " [ 7.]\n",
            " [ 8.]\n",
            " [ 9.]\n",
            " [10.]]\n",
            "[[ 1.]\n",
            " [ 3.]\n",
            " [ 5.]\n",
            " [ 7.]\n",
            " [ 9.]\n",
            " [11.]\n",
            " [13.]\n",
            " [15.]\n",
            " [17.]\n",
            " [19.]\n",
            " [21.]]\n"
          ]
        }
      ]
    },
    {
      "cell_type": "code",
      "source": [
        "import torch\n",
        "from torch.autograd import Variable\n",
        "class LinearRegression(torch.nn.Module):\n",
        "  def __init__(self, inputSize, outputSize):\n",
        "    super(LinearRegression, self).__init__()\n",
        "    self.linear = torch.nn.Linear(inputSize, outputSize)\n",
        "\n",
        "  def forward(self, x):\n",
        "    out = self.linear(x)\n",
        "    return out"
      ],
      "metadata": {
        "id": "rIbVrjbrohZa"
      },
      "execution_count": 28,
      "outputs": []
    },
    {
      "cell_type": "code",
      "source": [
        "inputDim = 1  #takes variable 'x'\n",
        "outputDim = 1  #takes variable 'y'\n",
        "learningRate = 0.01\n",
        "epochs = 100\n",
        "\n",
        "model = LinearRegression(inputDim, outputDim)\n",
        "### For GPU ###\n",
        "if torch.cuda.is_available():\n",
        "  model.cuda()"
      ],
      "metadata": {
        "id": "IX0bBVNApCGq"
      },
      "execution_count": 32,
      "outputs": []
    },
    {
      "cell_type": "code",
      "source": [
        "criterion = torch.nn.MSELoss()\n",
        "optimizer = torch.optim.SGD(model.parameters(), lr = learningRate)"
      ],
      "metadata": {
        "id": "U3kYkH59pXjA"
      },
      "execution_count": 33,
      "outputs": []
    },
    {
      "cell_type": "code",
      "source": [
        "for epoch in range(epochs):\n",
        "  #Conventing inputs and labels to Variable\n",
        "  if torch.cuda.is_available():\n",
        "    inputs = Variable(torch.from_numpy(x_train).cuda())\n",
        "    labels = Variable(torch.from_numpy(y_train).cuda())\n",
        "  else:\n",
        "    inputs = Variable(torch.from_numpy(x_train))\n",
        "    labels = Variable(torch.from_numpy(y_train))\n",
        "\n",
        "  #Clear gradient buffers because we don't want any gradient from previous epoch to carry forward, don't want to cummulate gradients\n",
        "  optimizer.zero_grad()\n",
        "\n",
        "  #get output from the model, given the inputs\n",
        "  outputs = model(inputs)\n",
        "\n",
        "  #get loss for the predicted output\n",
        "  loss = criterion(outputs, labels)\n",
        "  print(loss)\n",
        "  #get gradients w,r,t to parameters\n",
        "  loss.backward()\n",
        "\n",
        "  #update parameters\n",
        "  optimizer.step()\n",
        "\n",
        "  print(f'epoch {epoch}, loss {loss.item()}')"
      ],
      "metadata": {
        "colab": {
          "base_uri": "https://localhost:8080/"
        },
        "id": "4oMVLqk9pp1D",
        "outputId": "4327423f-85e8-4c0c-8746-0161e9081583"
      },
      "execution_count": 34,
      "outputs": [
        {
          "output_type": "stream",
          "name": "stdout",
          "text": [
            "tensor(178.4879, device='cuda:0', grad_fn=<MseLossBackward0>)\n",
            "epoch 0, loss 178.48788452148438\n",
            "tensor(14.6581, device='cuda:0', grad_fn=<MseLossBackward0>)\n",
            "epoch 1, loss 14.658095359802246\n",
            "tensor(1.2939, device='cuda:0', grad_fn=<MseLossBackward0>)\n",
            "epoch 2, loss 1.293904423713684\n",
            "tensor(0.2027, device='cuda:0', grad_fn=<MseLossBackward0>)\n",
            "epoch 3, loss 0.20273251831531525\n",
            "tensor(0.1126, device='cuda:0', grad_fn=<MseLossBackward0>)\n",
            "epoch 4, loss 0.11264344304800034\n",
            "tensor(0.1042, device='cuda:0', grad_fn=<MseLossBackward0>)\n",
            "epoch 5, loss 0.10422181338071823\n",
            "tensor(0.1025, device='cuda:0', grad_fn=<MseLossBackward0>)\n",
            "epoch 6, loss 0.10247370600700378\n",
            "tensor(0.1013, device='cuda:0', grad_fn=<MseLossBackward0>)\n",
            "epoch 7, loss 0.10128175467252731\n",
            "tensor(0.1001, device='cuda:0', grad_fn=<MseLossBackward0>)\n",
            "epoch 8, loss 0.10014692693948746\n",
            "tensor(0.0990, device='cuda:0', grad_fn=<MseLossBackward0>)\n",
            "epoch 9, loss 0.09902828931808472\n",
            "tensor(0.0979, device='cuda:0', grad_fn=<MseLossBackward0>)\n",
            "epoch 10, loss 0.09792229533195496\n",
            "tensor(0.0968, device='cuda:0', grad_fn=<MseLossBackward0>)\n",
            "epoch 11, loss 0.0968288853764534\n",
            "tensor(0.0957, device='cuda:0', grad_fn=<MseLossBackward0>)\n",
            "epoch 12, loss 0.09574764966964722\n",
            "tensor(0.0947, device='cuda:0', grad_fn=<MseLossBackward0>)\n",
            "epoch 13, loss 0.09467839449644089\n",
            "tensor(0.0936, device='cuda:0', grad_fn=<MseLossBackward0>)\n",
            "epoch 14, loss 0.09362112730741501\n",
            "tensor(0.0926, device='cuda:0', grad_fn=<MseLossBackward0>)\n",
            "epoch 15, loss 0.09257573634386063\n",
            "tensor(0.0915, device='cuda:0', grad_fn=<MseLossBackward0>)\n",
            "epoch 16, loss 0.09154186397790909\n",
            "tensor(0.0905, device='cuda:0', grad_fn=<MseLossBackward0>)\n",
            "epoch 17, loss 0.09051965177059174\n",
            "tensor(0.0895, device='cuda:0', grad_fn=<MseLossBackward0>)\n",
            "epoch 18, loss 0.0895087867975235\n",
            "tensor(0.0885, device='cuda:0', grad_fn=<MseLossBackward0>)\n",
            "epoch 19, loss 0.08850931376218796\n",
            "tensor(0.0875, device='cuda:0', grad_fn=<MseLossBackward0>)\n",
            "epoch 20, loss 0.08752094209194183\n",
            "tensor(0.0865, device='cuda:0', grad_fn=<MseLossBackward0>)\n",
            "epoch 21, loss 0.08654362708330154\n",
            "tensor(0.0856, device='cuda:0', grad_fn=<MseLossBackward0>)\n",
            "epoch 22, loss 0.08557722717523575\n",
            "tensor(0.0846, device='cuda:0', grad_fn=<MseLossBackward0>)\n",
            "epoch 23, loss 0.08462163060903549\n",
            "tensor(0.0837, device='cuda:0', grad_fn=<MseLossBackward0>)\n",
            "epoch 24, loss 0.08367669582366943\n",
            "tensor(0.0827, device='cuda:0', grad_fn=<MseLossBackward0>)\n",
            "epoch 25, loss 0.08274221420288086\n",
            "tensor(0.0818, device='cuda:0', grad_fn=<MseLossBackward0>)\n",
            "epoch 26, loss 0.08181828260421753\n",
            "tensor(0.0809, device='cuda:0', grad_fn=<MseLossBackward0>)\n",
            "epoch 27, loss 0.0809045061469078\n",
            "tensor(0.0800, device='cuda:0', grad_fn=<MseLossBackward0>)\n",
            "epoch 28, loss 0.08000119775533676\n",
            "tensor(0.0791, device='cuda:0', grad_fn=<MseLossBackward0>)\n",
            "epoch 29, loss 0.07910777628421783\n",
            "tensor(0.0782, device='cuda:0', grad_fn=<MseLossBackward0>)\n",
            "epoch 30, loss 0.07822439819574356\n",
            "tensor(0.0774, device='cuda:0', grad_fn=<MseLossBackward0>)\n",
            "epoch 31, loss 0.07735094428062439\n",
            "tensor(0.0765, device='cuda:0', grad_fn=<MseLossBackward0>)\n",
            "epoch 32, loss 0.07648712396621704\n",
            "tensor(0.0756, device='cuda:0', grad_fn=<MseLossBackward0>)\n",
            "epoch 33, loss 0.0756329670548439\n",
            "tensor(0.0748, device='cuda:0', grad_fn=<MseLossBackward0>)\n",
            "epoch 34, loss 0.07478842884302139\n",
            "tensor(0.0740, device='cuda:0', grad_fn=<MseLossBackward0>)\n",
            "epoch 35, loss 0.07395324856042862\n",
            "tensor(0.0731, device='cuda:0', grad_fn=<MseLossBackward0>)\n",
            "epoch 36, loss 0.07312744855880737\n",
            "tensor(0.0723, device='cuda:0', grad_fn=<MseLossBackward0>)\n",
            "epoch 37, loss 0.07231081277132034\n",
            "tensor(0.0715, device='cuda:0', grad_fn=<MseLossBackward0>)\n",
            "epoch 38, loss 0.0715034157037735\n",
            "tensor(0.0707, device='cuda:0', grad_fn=<MseLossBackward0>)\n",
            "epoch 39, loss 0.07070491462945938\n",
            "tensor(0.0699, device='cuda:0', grad_fn=<MseLossBackward0>)\n",
            "epoch 40, loss 0.06991540640592575\n",
            "tensor(0.0691, device='cuda:0', grad_fn=<MseLossBackward0>)\n",
            "epoch 41, loss 0.0691346749663353\n",
            "tensor(0.0684, device='cuda:0', grad_fn=<MseLossBackward0>)\n",
            "epoch 42, loss 0.06836264580488205\n",
            "tensor(0.0676, device='cuda:0', grad_fn=<MseLossBackward0>)\n",
            "epoch 43, loss 0.06759919226169586\n",
            "tensor(0.0668, device='cuda:0', grad_fn=<MseLossBackward0>)\n",
            "epoch 44, loss 0.06684426218271255\n",
            "tensor(0.0661, device='cuda:0', grad_fn=<MseLossBackward0>)\n",
            "epoch 45, loss 0.06609783321619034\n",
            "tensor(0.0654, device='cuda:0', grad_fn=<MseLossBackward0>)\n",
            "epoch 46, loss 0.06535982340574265\n",
            "tensor(0.0646, device='cuda:0', grad_fn=<MseLossBackward0>)\n",
            "epoch 47, loss 0.0646299198269844\n",
            "tensor(0.0639, device='cuda:0', grad_fn=<MseLossBackward0>)\n",
            "epoch 48, loss 0.0639081597328186\n",
            "tensor(0.0632, device='cuda:0', grad_fn=<MseLossBackward0>)\n",
            "epoch 49, loss 0.06319460272789001\n",
            "tensor(0.0625, device='cuda:0', grad_fn=<MseLossBackward0>)\n",
            "epoch 50, loss 0.06248881667852402\n",
            "tensor(0.0618, device='cuda:0', grad_fn=<MseLossBackward0>)\n",
            "epoch 51, loss 0.0617910735309124\n",
            "tensor(0.0611, device='cuda:0', grad_fn=<MseLossBackward0>)\n",
            "epoch 52, loss 0.0611010417342186\n",
            "tensor(0.0604, device='cuda:0', grad_fn=<MseLossBackward0>)\n",
            "epoch 53, loss 0.060418758541345596\n",
            "tensor(0.0597, device='cuda:0', grad_fn=<MseLossBackward0>)\n",
            "epoch 54, loss 0.05974404513835907\n",
            "tensor(0.0591, device='cuda:0', grad_fn=<MseLossBackward0>)\n",
            "epoch 55, loss 0.059076886624097824\n",
            "tensor(0.0584, device='cuda:0', grad_fn=<MseLossBackward0>)\n",
            "epoch 56, loss 0.05841721221804619\n",
            "tensor(0.0578, device='cuda:0', grad_fn=<MseLossBackward0>)\n",
            "epoch 57, loss 0.05776485055685043\n",
            "tensor(0.0571, device='cuda:0', grad_fn=<MseLossBackward0>)\n",
            "epoch 58, loss 0.05711989104747772\n",
            "tensor(0.0565, device='cuda:0', grad_fn=<MseLossBackward0>)\n",
            "epoch 59, loss 0.0564819797873497\n",
            "tensor(0.0559, device='cuda:0', grad_fn=<MseLossBackward0>)\n",
            "epoch 60, loss 0.05585119128227234\n",
            "tensor(0.0552, device='cuda:0', grad_fn=<MseLossBackward0>)\n",
            "epoch 61, loss 0.055227503180503845\n",
            "tensor(0.0546, device='cuda:0', grad_fn=<MseLossBackward0>)\n",
            "epoch 62, loss 0.05461081117391586\n",
            "tensor(0.0540, device='cuda:0', grad_fn=<MseLossBackward0>)\n",
            "epoch 63, loss 0.05400102585554123\n",
            "tensor(0.0534, device='cuda:0', grad_fn=<MseLossBackward0>)\n",
            "epoch 64, loss 0.053398046642541885\n",
            "tensor(0.0528, device='cuda:0', grad_fn=<MseLossBackward0>)\n",
            "epoch 65, loss 0.05280169099569321\n",
            "tensor(0.0522, device='cuda:0', grad_fn=<MseLossBackward0>)\n",
            "epoch 66, loss 0.05221207067370415\n",
            "tensor(0.0516, device='cuda:0', grad_fn=<MseLossBackward0>)\n",
            "epoch 67, loss 0.05162906274199486\n",
            "tensor(0.0511, device='cuda:0', grad_fn=<MseLossBackward0>)\n",
            "epoch 68, loss 0.05105249583721161\n",
            "tensor(0.0505, device='cuda:0', grad_fn=<MseLossBackward0>)\n",
            "epoch 69, loss 0.05048244073987007\n",
            "tensor(0.0499, device='cuda:0', grad_fn=<MseLossBackward0>)\n",
            "epoch 70, loss 0.04991864785552025\n",
            "tensor(0.0494, device='cuda:0', grad_fn=<MseLossBackward0>)\n",
            "epoch 71, loss 0.049361247569322586\n",
            "tensor(0.0488, device='cuda:0', grad_fn=<MseLossBackward0>)\n",
            "epoch 72, loss 0.04881002753973007\n",
            "tensor(0.0483, device='cuda:0', grad_fn=<MseLossBackward0>)\n",
            "epoch 73, loss 0.04826502129435539\n",
            "tensor(0.0477, device='cuda:0', grad_fn=<MseLossBackward0>)\n",
            "epoch 74, loss 0.047725994139909744\n",
            "tensor(0.0472, device='cuda:0', grad_fn=<MseLossBackward0>)\n",
            "epoch 75, loss 0.047193046659231186\n",
            "tensor(0.0467, device='cuda:0', grad_fn=<MseLossBackward0>)\n",
            "epoch 76, loss 0.04666607081890106\n",
            "tensor(0.0461, device='cuda:0', grad_fn=<MseLossBackward0>)\n",
            "epoch 77, loss 0.04614492505788803\n",
            "tensor(0.0456, device='cuda:0', grad_fn=<MseLossBackward0>)\n",
            "epoch 78, loss 0.04562968760728836\n",
            "tensor(0.0451, device='cuda:0', grad_fn=<MseLossBackward0>)\n",
            "epoch 79, loss 0.045120157301425934\n",
            "tensor(0.0446, device='cuda:0', grad_fn=<MseLossBackward0>)\n",
            "epoch 80, loss 0.04461631551384926\n",
            "tensor(0.0441, device='cuda:0', grad_fn=<MseLossBackward0>)\n",
            "epoch 81, loss 0.0441179983317852\n",
            "tensor(0.0436, device='cuda:0', grad_fn=<MseLossBackward0>)\n",
            "epoch 82, loss 0.04362538456916809\n",
            "tensor(0.0431, device='cuda:0', grad_fn=<MseLossBackward0>)\n",
            "epoch 83, loss 0.04313820227980614\n",
            "tensor(0.0427, device='cuda:0', grad_fn=<MseLossBackward0>)\n",
            "epoch 84, loss 0.042656440287828445\n",
            "tensor(0.0422, device='cuda:0', grad_fn=<MseLossBackward0>)\n",
            "epoch 85, loss 0.04218016192317009\n",
            "tensor(0.0417, device='cuda:0', grad_fn=<MseLossBackward0>)\n",
            "epoch 86, loss 0.04170915111899376\n",
            "tensor(0.0412, device='cuda:0', grad_fn=<MseLossBackward0>)\n",
            "epoch 87, loss 0.04124337434768677\n",
            "tensor(0.0408, device='cuda:0', grad_fn=<MseLossBackward0>)\n",
            "epoch 88, loss 0.04078280180692673\n",
            "tensor(0.0403, device='cuda:0', grad_fn=<MseLossBackward0>)\n",
            "epoch 89, loss 0.040327444672584534\n",
            "tensor(0.0399, device='cuda:0', grad_fn=<MseLossBackward0>)\n",
            "epoch 90, loss 0.03987710550427437\n",
            "tensor(0.0394, device='cuda:0', grad_fn=<MseLossBackward0>)\n",
            "epoch 91, loss 0.039431795477867126\n",
            "tensor(0.0390, device='cuda:0', grad_fn=<MseLossBackward0>)\n",
            "epoch 92, loss 0.038991447538137436\n",
            "tensor(0.0386, device='cuda:0', grad_fn=<MseLossBackward0>)\n",
            "epoch 93, loss 0.03855602815747261\n",
            "tensor(0.0381, device='cuda:0', grad_fn=<MseLossBackward0>)\n",
            "epoch 94, loss 0.03812551870942116\n",
            "tensor(0.0377, device='cuda:0', grad_fn=<MseLossBackward0>)\n",
            "epoch 95, loss 0.03769974783062935\n",
            "tensor(0.0373, device='cuda:0', grad_fn=<MseLossBackward0>)\n",
            "epoch 96, loss 0.03727877885103226\n",
            "tensor(0.0369, device='cuda:0', grad_fn=<MseLossBackward0>)\n",
            "epoch 97, loss 0.036862488836050034\n",
            "tensor(0.0365, device='cuda:0', grad_fn=<MseLossBackward0>)\n",
            "epoch 98, loss 0.036450840532779694\n",
            "tensor(0.0360, device='cuda:0', grad_fn=<MseLossBackward0>)\n",
            "epoch 99, loss 0.03604380786418915\n"
          ]
        }
      ]
    },
    {
      "cell_type": "code",
      "source": [
        "with torch.no_grad(): #we don't need gradients in the testing phase\n",
        "  if torch.cuda.is_available():\n",
        "    predicted = model(Variable(torch.from_numpy(x_train).cuda())).cpu().data.numpy()\n",
        "  else:\n",
        "    predicted = model(Variable(torch.from_numpy(x_train))).data.numpy()\n",
        "  print(predicted)"
      ],
      "metadata": {
        "colab": {
          "base_uri": "https://localhost:8080/"
        },
        "id": "K_1g4jQ0qrn4",
        "outputId": "880e3bc0-6ac4-4838-c0ea-98995ffa19a8"
      },
      "execution_count": 35,
      "outputs": [
        {
          "output_type": "stream",
          "name": "stdout",
          "text": [
            "[[ 0.64683676]\n",
            " [ 2.6976955 ]\n",
            " [ 4.748554  ]\n",
            " [ 6.7994127 ]\n",
            " [ 8.850271  ]\n",
            " [10.901131  ]\n",
            " [12.951989  ]\n",
            " [15.002848  ]\n",
            " [17.053707  ]\n",
            " [19.104565  ]\n",
            " [21.155424  ]]\n"
          ]
        }
      ]
    },
    {
      "cell_type": "code",
      "source": [
        "y_train"
      ],
      "metadata": {
        "colab": {
          "base_uri": "https://localhost:8080/"
        },
        "id": "h681htcPq_yo",
        "outputId": "200df9a4-c7d7-4157-f9b1-ac54e12124f5"
      },
      "execution_count": 36,
      "outputs": [
        {
          "output_type": "execute_result",
          "data": {
            "text/plain": [
              "array([[ 1.],\n",
              "       [ 3.],\n",
              "       [ 5.],\n",
              "       [ 7.],\n",
              "       [ 9.],\n",
              "       [11.],\n",
              "       [13.],\n",
              "       [15.],\n",
              "       [17.],\n",
              "       [19.],\n",
              "       [21.]], dtype=float32)"
            ]
          },
          "metadata": {},
          "execution_count": 36
        }
      ]
    },
    {
      "cell_type": "code",
      "source": [
        "for p in model.parameters():\n",
        "  if p.requires_grad:\n",
        "    print(p.name, p.data)  #파라미터 확인"
      ],
      "metadata": {
        "colab": {
          "base_uri": "https://localhost:8080/"
        },
        "id": "ZAf-dEi1rCio",
        "outputId": "538ba262-810f-44bc-d625-c791e8712641"
      },
      "execution_count": 37,
      "outputs": [
        {
          "output_type": "stream",
          "name": "stdout",
          "text": [
            "None tensor([[2.0509]], device='cuda:0')\n",
            "None tensor([0.6468], device='cuda:0')\n"
          ]
        }
      ]
    },
    {
      "cell_type": "markdown",
      "source": [
        "- 실제 backward는 Module단계에서 직접 지정 가능\n",
        "- Module에서 backward와 optimizer오버라이딩\n",
        "- 사용자가 직접 미분 수식을 써야하는 부담  \n",
        "  -> 쓸 일은 없으나 순서는 이해할 필요는 있음"
      ],
      "metadata": {
        "id": "mUn7k77YrPcr"
      }
    },
    {
      "cell_type": "markdown",
      "source": [
        "### ex ) LogisticRegression\n"
      ],
      "metadata": {
        "id": "7aZFrWWGsA4W"
      }
    },
    {
      "cell_type": "code",
      "source": [
        "import torch\n",
        "import torchvision\n",
        "import torch.nn as nn\n",
        "from torchvision import datasets, models, transforms\n",
        "import os\n",
        "import numpy as np\n",
        "import matplotlib.pyplot as plt\n",
        "\n",
        "%matplotlib inline\n",
        "\n",
        "##print out the pytorch version used\n",
        "print(torch.__version__)"
      ],
      "metadata": {
        "colab": {
          "base_uri": "https://localhost:8080/"
        },
        "id": "Hx2YtHY9rb7C",
        "outputId": "2abad397-4489-4e45-d65a-6479cda4435c"
      },
      "execution_count": 38,
      "outputs": [
        {
          "output_type": "stream",
          "name": "stdout",
          "text": [
            "1.12.0+cu113\n"
          ]
        }
      ]
    },
    {
      "cell_type": "code",
      "source": [
        "## configuration to dataset cuda or cpu\n",
        "device = torch.device(\"cuda:0\" if torch.cuda.is_available() else \"cpu\")\n",
        "print(device)"
      ],
      "metadata": {
        "colab": {
          "base_uri": "https://localhost:8080/"
        },
        "id": "oR4VXD5HsYSC",
        "outputId": "cb5dd071-8cec-45e5-f5e6-0758d7930b86"
      },
      "execution_count": 39,
      "outputs": [
        {
          "output_type": "stream",
          "name": "stdout",
          "text": [
            "cuda:0\n"
          ]
        }
      ]
    },
    {
      "cell_type": "code",
      "source": [
        "DATA_PATH = \"https://download.pytorch.org/tutorial/hymenoptera_data.zip\""
      ],
      "metadata": {
        "id": "PCI72g4kshb8"
      },
      "execution_count": 40,
      "outputs": []
    },
    {
      "cell_type": "code",
      "source": [
        "import urllib\n",
        "import os\n",
        "import shutil\n",
        "from zipfile import ZipFile\n",
        "\n",
        "urllib.request.urlretrieve(DATA_PATH, \"hymenoptera_data.zip\")\n",
        "\n",
        "with ZipFile(\"hymenoptera_data.zip\", 'r') as zip0bj:\n",
        "  #Extract all the contents of zip file in current directory\n",
        "  zip0bj.extractall()\n",
        "\n",
        "os.rename('hymenoptera_data',\"data\")\n"
      ],
      "metadata": {
        "id": "qUN4oaOBsodP"
      },
      "execution_count": 41,
      "outputs": []
    },
    {
      "cell_type": "code",
      "source": [
        "## configure root folder on your gdrive\n",
        "data_dir = \"./data\"\n",
        "\n",
        "## custom transformer to flatten the image tensors\n",
        "class ReshapeTransform:\n",
        "  def __init__(self, new_size):\n",
        "    self.new_size = new_size\n",
        "\n",
        "  def __call__(self, img):\n",
        "    result = torch.reshape(img, self.new_size)\n",
        "    return result\n",
        "\n",
        "## transformations used to standardize and normalize the datasets\n",
        "data_transforms = {\n",
        "    'train' : transforms.Compose([\n",
        "                                  transforms.Resize(224),\n",
        "                                  transforms.CenterCrop(224),\n",
        "                                  transforms.ToTensor(),\n",
        "                                  ReshapeTransform((-1,))  #flattens the data\n",
        "    ]),\n",
        "    'val' : transforms.Compose([\n",
        "                                transforms.Resize(224),\n",
        "                                transforms.CenterCrop(224),\n",
        "                                transforms.ToTensor(),\n",
        "                                ReshapeTransform((-1,)) #flattens the data\n",
        "    ]), \n",
        "}\n",
        "\n",
        "## load the corresponding folders\n",
        "image_datasets = {x:datasets.ImageFolder(os.path.join(data_dir, x),\n",
        "                                         data_transforms[x])\n",
        "                  for x in ['train','val']}\n",
        "\n",
        "## load the entire dataset: we are not using minibatches here\n",
        "train_dataset = torch.utils.data.DataLoader(image_datasets['train'],\n",
        "                                            batch_size = len(image_datasets['train']),\n",
        "                                            shuffle = True)\n",
        "test_dataset = torch.utils.data.DataLoader(image_datasets['val'],\n",
        "                                            batch_size = len(image_datasets['val']),\n",
        "                                            shuffle = True)"
      ],
      "metadata": {
        "id": "gxb9b0C-tDNM"
      },
      "execution_count": 42,
      "outputs": []
    },
    {
      "cell_type": "code",
      "source": [
        "## load the entire dataset\n",
        "x, y = next(iter(train_dataset))\n",
        "\n",
        "## print one example\n",
        "dim = x.shape[1]\n",
        "print(f'''Dimension of image : {x.shape}\\n\n",
        "Dimension of labels : {y.shape}''')\n",
        "\n",
        "plt.imshow(x[160].reshape(1,3,224,224).squeeze().T.numpy())"
      ],
      "metadata": {
        "colab": {
          "base_uri": "https://localhost:8080/",
          "height": 400
        },
        "id": "w09dfpUAuuK9",
        "outputId": "6d30e1eb-aa9d-43d9-f9c8-97fbc69888e4"
      },
      "execution_count": 43,
      "outputs": [
        {
          "output_type": "stream",
          "name": "stdout",
          "text": [
            "Dimension of image : torch.Size([244, 150528])\n",
            "\n",
            "Dimension of labels : torch.Size([244])\n"
          ]
        },
        {
          "output_type": "stream",
          "name": "stderr",
          "text": [
            "/usr/local/lib/python3.7/dist-packages/ipykernel_launcher.py:9: UserWarning: The use of `x.T` on tensors of dimension other than 2 to reverse their shape is deprecated and it will throw an error in a future release. Consider `x.mT` to transpose batches of matricesor `x.permute(*torch.arange(x.ndim - 1, -1, -1))` to reverse the dimensions of a tensor. (Triggered internally at  ../aten/src/ATen/native/TensorShape.cpp:2981.)\n",
            "  if __name__ == '__main__':\n"
          ]
        },
        {
          "output_type": "execute_result",
          "data": {
            "text/plain": [
              "<matplotlib.image.AxesImage at 0x7f10f25b18d0>"
            ]
          },
          "metadata": {},
          "execution_count": 43
        },
        {
          "output_type": "display_data",
          "data": {
            "text/plain": [
              "<Figure size 432x288 with 1 Axes>"
            ],
            "image/png": "[encoded data removed]"
          },
          "metadata": {
            "needs_background": "light"
          }
        }
      ]
    },
    {
      "cell_type": "code",
      "source": [
        "class LR(nn.Module):\n",
        "  def __init__(self, dim, lr = torch.scalar_tensor(0.01)):\n",
        "    super(LR, self).__init__()\n",
        "    #initialize parameters\n",
        "    self.w = torch.zeros(dim, 1, dtype = torch.float).to(device)\n",
        "    self.b = torch.scalar_tensor(0).to(device)\n",
        "    # 자동미분 안하기 때문에 parameter선언 하지 않았음\n",
        "    self.grads = {'dw':torch.zeros(dim, 1, dtype = torch.float).to(device),\n",
        "                  'db':torch.scalar_tensor(0).to(device)}\n",
        "    self.lr = lr.to(device) #learning rate\n",
        "\n",
        "  def forward(self, x):\n",
        "    ##compute forward\n",
        "    z = torch.mm(self.w.T, x) + self.b\n",
        "    a = self.sigmoid(z)\n",
        "    return a\n",
        "\n",
        "  def sigmoid(self, z):\n",
        "    return 1/(1+torch.exp(-z))\n",
        "\n",
        "  def backward(self, x, yhat, y):\n",
        "    ##compute backward\n",
        "    self.grads['dw'] = (1/x.shape[1]) * torch.mm(x, (yhat-y).T)\n",
        "    self.grads['db'] = (1/x.shape[1]) * torch.sum(yhat -y)\n",
        "\n",
        "  def optimize(self):  #미분에 대한 업데이트\n",
        "    ##optimization step\n",
        "    self.w = self.w - self.lr * self.grads['dw']\n",
        "    self.b = self.b - self.lr * self.grads['db']\n",
        "\n",
        "##utility functions\n",
        "def loss(yhat, y):\n",
        "  m = y.size()[1]\n",
        "  return -(1/m)*torch.sum(y*torch.log(yhat) + (1-y)*torch.log(1-yhat))\n",
        "\n",
        "def predict(yhat, y):\n",
        "  y_prediction = torch.zeros(1, y.size()[1])\n",
        "  for i in range(yhat.size()[1]):\n",
        "    if yhat[0,i] <= 0.5:\n",
        "      y_prediction[0,i] = 0\n",
        "    else:\n",
        "      y_prediction[0,i] = 1\n",
        "  return 100 - torch.mean(torch.abs(y_prediction-y)) * 100\n",
        "   "
      ],
      "metadata": {
        "id": "6Sf-QPgavToN"
      },
      "execution_count": 44,
      "outputs": []
    },
    {
      "cell_type": "code",
      "source": [
        "##model pretesting\n",
        "x, y = next(iter(train_dataset))\n",
        "\n",
        "##flatten/transform the data\n",
        "x_flatten = x.T\n",
        "y = y.unsqueeze(0)\n",
        "\n",
        "##num_px is the dimention of the images\n",
        "dim = x_flatten.shape[0]\n",
        "\n",
        "##model instance\n",
        "model = LR(dim)\n",
        "model.to(device)\n",
        "yhat = model.forward(x_flatten.to(device))\n",
        "yhat = yhat.data.cpu()\n",
        "\n",
        "##calculate loss\n",
        "cost = loss(yhat, y)\n",
        "prediction = predict(yhat, y)\n",
        "print(f'Cost : {cost}')\n",
        "print(f'Accuracy : {prediction}')\n",
        "\n",
        "##backpropagate\n",
        "model.backward(x_flatten.to(device), yhat.to(device), y.to(device))\n",
        "model.optimize()"
      ],
      "metadata": {
        "colab": {
          "base_uri": "https://localhost:8080/"
        },
        "id": "6z2wFe3TxEZ3",
        "outputId": "bfbd35f4-6b45-448b-bdab-ae54f444028f"
      },
      "execution_count": 45,
      "outputs": [
        {
          "output_type": "stream",
          "name": "stdout",
          "text": [
            "Cost : 0.6931472420692444\n",
            "Accuracy : 50.40983581542969\n"
          ]
        }
      ]
    },
    {
      "cell_type": "code",
      "source": [
        "## hyperparams\n",
        "costs = []\n",
        "dim = x_flatten.shape[0]\n",
        "learning_rate = torch.scalar_tensor(0.0001).to(device)\n",
        "num_iterations = 100\n",
        "lrmodel = LR(dim, learning_rate)\n",
        "lrmodel.to(device)\n",
        "\n",
        "## transform the data\n",
        "def transform_data(x,y):\n",
        "  x_flatten = x.T\n",
        "  y = y.unsqueeze(0)\n",
        "  return x_flatten, y\n",
        "\n",
        "## training the model\n",
        "for i in range(num_iterations):\n",
        "  x, y = next(iter(train_dataset))\n",
        "  test_x, test_y = next(iter(test_dataset))\n",
        "  x,y = transform_data(x,y)\n",
        "  test_x, test_y = transform_data(test_x, test_y)\n",
        "\n",
        "  #forward\n",
        "  yhat = lrmodel.forward(x.to(device))\n",
        "  cost = loss(yhat.data.cpu(), y)\n",
        "  train_pred = predict(yhat, y)\n",
        "\n",
        "  #backward\n",
        "  lrmodel.backward(x.to(device),\n",
        "                   yhat.to(device),\n",
        "                   y.to(device))\n",
        "  lrmodel.optimize()\n",
        "\n",
        "  ##test\n",
        "  yhat_test = lrmodel.forward(test_x.to(device))\n",
        "  test_pred = predict(yhat_test, test_y)\n",
        "\n",
        "  if i % 10 == 0:\n",
        "    costs.append(cost)\n",
        "\n",
        "  if i % 10 == 0:\n",
        "    print(f\"Cost after iteration {i} : {cost} | Train Acc : {train_pred} | Test Acc : {test_pred}\")\n"
      ],
      "metadata": {
        "colab": {
          "base_uri": "https://localhost:8080/"
        },
        "id": "VWpgtcFxxsTm",
        "outputId": "8283c7d5-978d-45e9-d20b-0a52ba8ec939"
      },
      "execution_count": 50,
      "outputs": [
        {
          "output_type": "stream",
          "name": "stdout",
          "text": [
            "Cost after iteration 0 : 0.6931472420692444 | Train Acc : 50.40983581542969 | Test Acc : 45.75163269042969\n",
            "Cost after iteration 10 : 0.6691470742225647 | Train Acc : 64.3442611694336 | Test Acc : 54.24836730957031\n",
            "Cost after iteration 20 : 0.6513182520866394 | Train Acc : 68.44261932373047 | Test Acc : 54.24836730957031\n",
            "Cost after iteration 30 : 0.6367825269699097 | Train Acc : 68.03278350830078 | Test Acc : 54.24836730957031\n",
            "Cost after iteration 40 : 0.6245337128639221 | Train Acc : 69.67213439941406 | Test Acc : 54.90196228027344\n",
            "Cost after iteration 50 : 0.6139225959777832 | Train Acc : 70.90164184570312 | Test Acc : 56.20914840698242\n",
            "Cost after iteration 60 : 0.6045235395431519 | Train Acc : 72.54098510742188 | Test Acc : 56.86274337768555\n",
            "Cost after iteration 70 : 0.5960511565208435 | Train Acc : 74.18032836914062 | Test Acc : 57.51633834838867\n",
            "Cost after iteration 80 : 0.5883084535598755 | Train Acc : 73.77049255371094 | Test Acc : 57.51633834838867\n",
            "Cost after iteration 90 : 0.5811558365821838 | Train Acc : 74.59016418457031 | Test Acc : 58.1699333190918\n"
          ]
        }
      ]
    },
    {
      "cell_type": "code",
      "source": [
        "## the trend in the contest of loss\n",
        "plt.plot(costs)\n",
        "plt.show()"
      ],
      "metadata": {
        "colab": {
          "base_uri": "https://localhost:8080/",
          "height": 265
        },
        "id": "ZWLvrZnozLl5",
        "outputId": "b28a357c-2e8a-4770-d38d-b7b100adafc5"
      },
      "execution_count": 51,
      "outputs": [
        {
          "output_type": "display_data",
          "data": {
            "text/plain": [
              "<Figure size 432x288 with 1 Axes>"
            ],
            "image/png": "[encoded data removed]"
          },
          "metadata": {
            "needs_background": "light"
          }
        }
      ]
    }
  ]
}